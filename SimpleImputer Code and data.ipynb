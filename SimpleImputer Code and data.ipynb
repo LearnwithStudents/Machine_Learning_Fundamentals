{
 "cells": [
  {
   "cell_type": "markdown",
   "id": "0011717d",
   "metadata": {},
   "source": [
    "# SimpleImputer (sklearn) for handling the null values"
   ]
  },
  {
   "cell_type": "code",
   "execution_count": 1,
   "id": "dcffecc3",
   "metadata": {},
   "outputs": [],
   "source": [
    "import pandas as pd\n",
    "import numpy as np"
   ]
  },
  {
   "cell_type": "code",
   "execution_count": 2,
   "id": "d556cda8",
   "metadata": {},
   "outputs": [],
   "source": [
    "df_1=pd.Series([1,2,3,4,5,6])\n",
    "df_2=pd.Series([x for x in range(7,13)])\n",
    "df_3=pd.Series([x*0 for x in range(6)])"
   ]
  },
  {
   "cell_type": "code",
   "execution_count": 3,
   "id": "df0f22fa",
   "metadata": {},
   "outputs": [],
   "source": [
    "d1=pd.DataFrame({'D1':df_1})\n",
    "d2=pd.DataFrame({'D2':df_2})\n",
    "d3=pd.DataFrame({'D3':df_3})"
   ]
  },
  {
   "cell_type": "code",
   "execution_count": 4,
   "id": "ea63ca82",
   "metadata": {},
   "outputs": [],
   "source": [
    "df_=pd.concat([d1,d2],axis=1)"
   ]
  },
  {
   "cell_type": "code",
   "execution_count": 5,
   "id": "09bfddc1",
   "metadata": {},
   "outputs": [],
   "source": [
    "final_df=pd.concat([df_,d3],axis=1)"
   ]
  },
  {
   "cell_type": "code",
   "execution_count": 6,
   "id": "995a66d0",
   "metadata": {},
   "outputs": [
    {
     "data": {
      "text/html": [
       "<div>\n",
       "<style scoped>\n",
       "    .dataframe tbody tr th:only-of-type {\n",
       "        vertical-align: middle;\n",
       "    }\n",
       "\n",
       "    .dataframe tbody tr th {\n",
       "        vertical-align: top;\n",
       "    }\n",
       "\n",
       "    .dataframe thead th {\n",
       "        text-align: right;\n",
       "    }\n",
       "</style>\n",
       "<table border=\"1\" class=\"dataframe\">\n",
       "  <thead>\n",
       "    <tr style=\"text-align: right;\">\n",
       "      <th></th>\n",
       "      <th>D1</th>\n",
       "      <th>D2</th>\n",
       "      <th>D3</th>\n",
       "    </tr>\n",
       "  </thead>\n",
       "  <tbody>\n",
       "    <tr>\n",
       "      <th>0</th>\n",
       "      <td>1</td>\n",
       "      <td>7</td>\n",
       "      <td>0</td>\n",
       "    </tr>\n",
       "    <tr>\n",
       "      <th>1</th>\n",
       "      <td>2</td>\n",
       "      <td>8</td>\n",
       "      <td>0</td>\n",
       "    </tr>\n",
       "    <tr>\n",
       "      <th>2</th>\n",
       "      <td>3</td>\n",
       "      <td>9</td>\n",
       "      <td>0</td>\n",
       "    </tr>\n",
       "    <tr>\n",
       "      <th>3</th>\n",
       "      <td>4</td>\n",
       "      <td>10</td>\n",
       "      <td>0</td>\n",
       "    </tr>\n",
       "    <tr>\n",
       "      <th>4</th>\n",
       "      <td>5</td>\n",
       "      <td>11</td>\n",
       "      <td>0</td>\n",
       "    </tr>\n",
       "    <tr>\n",
       "      <th>5</th>\n",
       "      <td>6</td>\n",
       "      <td>12</td>\n",
       "      <td>0</td>\n",
       "    </tr>\n",
       "  </tbody>\n",
       "</table>\n",
       "</div>"
      ],
      "text/plain": [
       "   D1  D2  D3\n",
       "0   1   7   0\n",
       "1   2   8   0\n",
       "2   3   9   0\n",
       "3   4  10   0\n",
       "4   5  11   0\n",
       "5   6  12   0"
      ]
     },
     "execution_count": 6,
     "metadata": {},
     "output_type": "execute_result"
    }
   ],
   "source": [
    "final_df"
   ]
  },
  {
   "cell_type": "code",
   "execution_count": 7,
   "id": "c43f8ad4",
   "metadata": {},
   "outputs": [],
   "source": [
    "final_df['D2'].loc[4:6]=np.nan"
   ]
  },
  {
   "cell_type": "code",
   "execution_count": 8,
   "id": "3205e420",
   "metadata": {},
   "outputs": [
    {
     "data": {
      "text/html": [
       "<div>\n",
       "<style scoped>\n",
       "    .dataframe tbody tr th:only-of-type {\n",
       "        vertical-align: middle;\n",
       "    }\n",
       "\n",
       "    .dataframe tbody tr th {\n",
       "        vertical-align: top;\n",
       "    }\n",
       "\n",
       "    .dataframe thead th {\n",
       "        text-align: right;\n",
       "    }\n",
       "</style>\n",
       "<table border=\"1\" class=\"dataframe\">\n",
       "  <thead>\n",
       "    <tr style=\"text-align: right;\">\n",
       "      <th></th>\n",
       "      <th>D1</th>\n",
       "      <th>D2</th>\n",
       "      <th>D3</th>\n",
       "    </tr>\n",
       "  </thead>\n",
       "  <tbody>\n",
       "    <tr>\n",
       "      <th>0</th>\n",
       "      <td>1</td>\n",
       "      <td>7.0</td>\n",
       "      <td>0</td>\n",
       "    </tr>\n",
       "    <tr>\n",
       "      <th>1</th>\n",
       "      <td>2</td>\n",
       "      <td>8.0</td>\n",
       "      <td>0</td>\n",
       "    </tr>\n",
       "    <tr>\n",
       "      <th>2</th>\n",
       "      <td>3</td>\n",
       "      <td>9.0</td>\n",
       "      <td>0</td>\n",
       "    </tr>\n",
       "    <tr>\n",
       "      <th>3</th>\n",
       "      <td>4</td>\n",
       "      <td>10.0</td>\n",
       "      <td>0</td>\n",
       "    </tr>\n",
       "    <tr>\n",
       "      <th>4</th>\n",
       "      <td>5</td>\n",
       "      <td>NaN</td>\n",
       "      <td>0</td>\n",
       "    </tr>\n",
       "    <tr>\n",
       "      <th>5</th>\n",
       "      <td>6</td>\n",
       "      <td>NaN</td>\n",
       "      <td>0</td>\n",
       "    </tr>\n",
       "  </tbody>\n",
       "</table>\n",
       "</div>"
      ],
      "text/plain": [
       "   D1    D2  D3\n",
       "0   1   7.0   0\n",
       "1   2   8.0   0\n",
       "2   3   9.0   0\n",
       "3   4  10.0   0\n",
       "4   5   NaN   0\n",
       "5   6   NaN   0"
      ]
     },
     "execution_count": 8,
     "metadata": {},
     "output_type": "execute_result"
    }
   ],
   "source": [
    "final_df"
   ]
  },
  {
   "cell_type": "code",
   "execution_count": 9,
   "id": "818c8599",
   "metadata": {},
   "outputs": [
    {
     "name": "stderr",
     "output_type": "stream",
     "text": [
      "/var/folders/d6/s0gglf8932vfsdjpfxwvry340000gp/T/ipykernel_1581/417353416.py:1: SettingWithCopyWarning: \n",
      "A value is trying to be set on a copy of a slice from a DataFrame\n",
      "\n",
      "See the caveats in the documentation: https://pandas.pydata.org/pandas-docs/stable/user_guide/indexing.html#returning-a-view-versus-a-copy\n",
      "  final_df['D1'].loc[0:3]=999\n"
     ]
    }
   ],
   "source": [
    "final_df['D1'].loc[0:3]=999"
   ]
  },
  {
   "cell_type": "code",
   "execution_count": 10,
   "id": "a1cac2cd",
   "metadata": {},
   "outputs": [
    {
     "data": {
      "text/html": [
       "<div>\n",
       "<style scoped>\n",
       "    .dataframe tbody tr th:only-of-type {\n",
       "        vertical-align: middle;\n",
       "    }\n",
       "\n",
       "    .dataframe tbody tr th {\n",
       "        vertical-align: top;\n",
       "    }\n",
       "\n",
       "    .dataframe thead th {\n",
       "        text-align: right;\n",
       "    }\n",
       "</style>\n",
       "<table border=\"1\" class=\"dataframe\">\n",
       "  <thead>\n",
       "    <tr style=\"text-align: right;\">\n",
       "      <th></th>\n",
       "      <th>D1</th>\n",
       "      <th>D2</th>\n",
       "      <th>D3</th>\n",
       "    </tr>\n",
       "  </thead>\n",
       "  <tbody>\n",
       "    <tr>\n",
       "      <th>0</th>\n",
       "      <td>999</td>\n",
       "      <td>7.0</td>\n",
       "      <td>0</td>\n",
       "    </tr>\n",
       "    <tr>\n",
       "      <th>1</th>\n",
       "      <td>999</td>\n",
       "      <td>8.0</td>\n",
       "      <td>0</td>\n",
       "    </tr>\n",
       "    <tr>\n",
       "      <th>2</th>\n",
       "      <td>999</td>\n",
       "      <td>9.0</td>\n",
       "      <td>0</td>\n",
       "    </tr>\n",
       "    <tr>\n",
       "      <th>3</th>\n",
       "      <td>999</td>\n",
       "      <td>10.0</td>\n",
       "      <td>0</td>\n",
       "    </tr>\n",
       "    <tr>\n",
       "      <th>4</th>\n",
       "      <td>5</td>\n",
       "      <td>NaN</td>\n",
       "      <td>0</td>\n",
       "    </tr>\n",
       "    <tr>\n",
       "      <th>5</th>\n",
       "      <td>6</td>\n",
       "      <td>NaN</td>\n",
       "      <td>0</td>\n",
       "    </tr>\n",
       "  </tbody>\n",
       "</table>\n",
       "</div>"
      ],
      "text/plain": [
       "    D1    D2  D3\n",
       "0  999   7.0   0\n",
       "1  999   8.0   0\n",
       "2  999   9.0   0\n",
       "3  999  10.0   0\n",
       "4    5   NaN   0\n",
       "5    6   NaN   0"
      ]
     },
     "execution_count": 10,
     "metadata": {},
     "output_type": "execute_result"
    }
   ],
   "source": [
    "final_df"
   ]
  },
  {
   "cell_type": "code",
   "execution_count": 11,
   "id": "fc21a6b4",
   "metadata": {},
   "outputs": [],
   "source": [
    "from sklearn.impute import SimpleImputer\n",
    "\n",
    "imputer=SimpleImputer(missing_values=np.nan,strategy='mean')"
   ]
  },
  {
   "cell_type": "code",
   "execution_count": 12,
   "id": "92f65906",
   "metadata": {},
   "outputs": [],
   "source": [
    "final_df=imputer.fit_transform(final_df)"
   ]
  },
  {
   "cell_type": "code",
   "execution_count": 13,
   "id": "2d9b1aff",
   "metadata": {},
   "outputs": [
    {
     "data": {
      "text/plain": [
       "array([[999. ,   7. ,   0. ],\n",
       "       [999. ,   8. ,   0. ],\n",
       "       [999. ,   9. ,   0. ],\n",
       "       [999. ,  10. ,   0. ],\n",
       "       [  5. ,   8.5,   0. ],\n",
       "       [  6. ,   8.5,   0. ]])"
      ]
     },
     "execution_count": 13,
     "metadata": {},
     "output_type": "execute_result"
    }
   ],
   "source": [
    "final_df"
   ]
  },
  {
   "cell_type": "code",
   "execution_count": 14,
   "id": "34349e3d",
   "metadata": {},
   "outputs": [],
   "source": [
    "imp=SimpleImputer(missing_values=999,strategy='most_frequent')"
   ]
  },
  {
   "cell_type": "code",
   "execution_count": 15,
   "id": "a5cf37ba",
   "metadata": {},
   "outputs": [],
   "source": [
    "final_df=imp.fit_transform(final_df)"
   ]
  },
  {
   "cell_type": "code",
   "execution_count": 16,
   "id": "5e022a59",
   "metadata": {},
   "outputs": [
    {
     "data": {
      "text/plain": [
       "array([[ 5. ,  7. ,  0. ],\n",
       "       [ 5. ,  8. ,  0. ],\n",
       "       [ 5. ,  9. ,  0. ],\n",
       "       [ 5. , 10. ,  0. ],\n",
       "       [ 5. ,  8.5,  0. ],\n",
       "       [ 6. ,  8.5,  0. ]])"
      ]
     },
     "execution_count": 16,
     "metadata": {},
     "output_type": "execute_result"
    }
   ],
   "source": [
    "final_df"
   ]
  },
  {
   "cell_type": "code",
   "execution_count": 17,
   "id": "27e79244",
   "metadata": {},
   "outputs": [],
   "source": [
    "imp_1=SimpleImputer(missing_values=0,strategy='mean')"
   ]
  },
  {
   "cell_type": "code",
   "execution_count": 19,
   "id": "6d456de3",
   "metadata": {},
   "outputs": [],
   "source": [
    "final_df=imp_1.fit_transform(final_df)"
   ]
  },
  {
   "cell_type": "code",
   "execution_count": 20,
   "id": "00f8218c",
   "metadata": {},
   "outputs": [
    {
     "data": {
      "text/plain": [
       "array([[ 5. ,  7. ],\n",
       "       [ 5. ,  8. ],\n",
       "       [ 5. ,  9. ],\n",
       "       [ 5. , 10. ],\n",
       "       [ 5. ,  8.5],\n",
       "       [ 6. ,  8.5]])"
      ]
     },
     "execution_count": 20,
     "metadata": {},
     "output_type": "execute_result"
    }
   ],
   "source": [
    "final_df"
   ]
  },
  {
   "cell_type": "code",
   "execution_count": null,
   "id": "64a25d2c",
   "metadata": {},
   "outputs": [],
   "source": []
  }
 ],
 "metadata": {
  "kernelspec": {
   "display_name": "Python 3 (ipykernel)",
   "language": "python",
   "name": "python3"
  },
  "language_info": {
   "codemirror_mode": {
    "name": "ipython",
    "version": 3
   },
   "file_extension": ".py",
   "mimetype": "text/x-python",
   "name": "python",
   "nbconvert_exporter": "python",
   "pygments_lexer": "ipython3",
   "version": "3.9.12"
  }
 },
 "nbformat": 4,
 "nbformat_minor": 5
}
